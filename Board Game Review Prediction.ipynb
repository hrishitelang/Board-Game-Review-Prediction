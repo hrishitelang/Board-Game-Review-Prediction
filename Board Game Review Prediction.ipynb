{
 "cells": [
  {
   "cell_type": "code",
   "execution_count": 1,
   "metadata": {},
   "outputs": [],
   "source": [
    "#Import the libraries \n",
    "import numpy as np\n",
    "import pandas as pd\n",
    "import matplotlib.pyplot as plt"
   ]
  },
  {
   "cell_type": "code",
   "execution_count": 2,
   "metadata": {},
   "outputs": [],
   "source": [
    "#Read the dataset\n",
    "dataset = pd.read_csv(\"games.csv\")"
   ]
  },
  {
   "cell_type": "code",
   "execution_count": 3,
   "metadata": {},
   "outputs": [
    {
     "name": "stdout",
     "output_type": "stream",
     "text": [
      "Index(['id', 'type', 'name', 'yearpublished', 'minplayers', 'maxplayers',\n",
      "       'playingtime', 'minplaytime', 'maxplaytime', 'minage', 'users_rated',\n",
      "       'average_rating', 'bayes_average_rating', 'total_owners',\n",
      "       'total_traders', 'total_wanters', 'total_wishers', 'total_comments',\n",
      "       'total_weights', 'average_weight'],\n",
      "      dtype='object')\n"
     ]
    }
   ],
   "source": [
    "#Print the names of the columns\n",
    "print(dataset.columns)"
   ]
  },
  {
   "cell_type": "code",
   "execution_count": 4,
   "metadata": {},
   "outputs": [
    {
     "name": "stdout",
     "output_type": "stream",
     "text": [
      "(81312, 20)\n"
     ]
    }
   ],
   "source": [
    "#Print the shape\n",
    "print(dataset.shape)"
   ]
  },
  {
   "cell_type": "code",
   "execution_count": 5,
   "metadata": {},
   "outputs": [
    {
     "data": {
      "image/png": "[encoded data removed]",
      "text/plain": [
       "<Figure size 432x288 with 1 Axes>"
      ]
     },
     "metadata": {
      "needs_background": "light"
     },
     "output_type": "display_data"
    }
   ],
   "source": [
    "#First let us plot the histogram\n",
    "plt.hist(dataset['average_rating'])\n",
    "plt.show()"
   ]
  },
  {
   "cell_type": "markdown",
   "metadata": {},
   "source": [
    "There are so many games which are not rated at all. We are performing some EDA on this now."
   ]
  },
  {
   "cell_type": "code",
   "execution_count": 6,
   "metadata": {},
   "outputs": [
    {
     "name": "stdout",
     "output_type": "stream",
     "text": [
      "id                             318\n",
      "type                     boardgame\n",
      "name                    Looney Leo\n",
      "yearpublished                    0\n",
      "minplayers                       0\n",
      "maxplayers                       0\n",
      "playingtime                      0\n",
      "minplaytime                      0\n",
      "maxplaytime                      0\n",
      "minage                           0\n",
      "users_rated                      0\n",
      "average_rating                   0\n",
      "bayes_average_rating             0\n",
      "total_owners                     0\n",
      "total_traders                    0\n",
      "total_wanters                    0\n",
      "total_wishers                    1\n",
      "total_comments                   0\n",
      "total_weights                    0\n",
      "average_weight                   0\n",
      "Name: 13048, dtype: object\n"
     ]
    }
   ],
   "source": [
    "#Print the first column of the game with average rating equal to 0\n",
    "print(dataset[dataset['average_rating'] == 0].iloc[0])"
   ]
  },
  {
   "cell_type": "markdown",
   "metadata": {},
   "source": [
    "We observe that Looney Loo has no user ratings at all. Thus, we can assume having several of such missing values from the dataset that causes them to be 0."
   ]
  },
  {
   "cell_type": "code",
   "execution_count": 7,
   "metadata": {},
   "outputs": [
    {
     "name": "stdout",
     "output_type": "stream",
     "text": [
      "id                                  12333\n",
      "type                            boardgame\n",
      "name                    Twilight Struggle\n",
      "yearpublished                        2005\n",
      "minplayers                              2\n",
      "maxplayers                              2\n",
      "playingtime                           180\n",
      "minplaytime                           180\n",
      "maxplaytime                           180\n",
      "minage                                 13\n",
      "users_rated                         20113\n",
      "average_rating                    8.33774\n",
      "bayes_average_rating              8.22186\n",
      "total_owners                        26647\n",
      "total_traders                         372\n",
      "total_wanters                        1219\n",
      "total_wishers                        5865\n",
      "total_comments                       5347\n",
      "total_weights                        2562\n",
      "average_weight                     3.4785\n",
      "Name: 0, dtype: object\n"
     ]
    }
   ],
   "source": [
    "#Print the first column of the game with average rating greater than 0\n",
    "print(dataset[dataset['average_rating'] > 0].iloc[0])"
   ]
  },
  {
   "cell_type": "markdown",
   "metadata": {},
   "source": [
    "We observe that Twilight Struggle has more than 20,000 user ratings at all. We require such rows for correct prediction of the outputs. Thus, we must remove all the empty or NA columns of users_rated from our dataset."
   ]
  },
  {
   "cell_type": "code",
   "execution_count": 8,
   "metadata": {},
   "outputs": [
    {
     "data": {
      "image/png": "[encoded data removed]",
      "text/plain": [
       "<Figure size 432x288 with 1 Axes>"
      ]
     },
     "metadata": {
      "needs_background": "light"
     },
     "output_type": "display_data"
    }
   ],
   "source": [
    "#Modify dataset by removing empty users\n",
    "dataset = dataset[dataset['users_rated'] > 0]\n",
    "\n",
    "#Modify dataset by dropping empty rows\n",
    "dataset = dataset.dropna(axis = 0)\n",
    "\n",
    "#Checking histogram again\n",
    "plt.hist(dataset['average_rating'])\n",
    "plt.show()"
   ]
  },
  {
   "cell_type": "markdown",
   "metadata": {},
   "source": [
    "Okay, so we have successfully remove all the null users_rated values from the dataset. Now let's check the columns."
   ]
  },
  {
   "cell_type": "code",
   "execution_count": 9,
   "metadata": {},
   "outputs": [
    {
     "name": "stdout",
     "output_type": "stream",
     "text": [
      "Index(['id', 'type', 'name', 'yearpublished', 'minplayers', 'maxplayers',\n",
      "       'playingtime', 'minplaytime', 'maxplaytime', 'minage', 'users_rated',\n",
      "       'average_rating', 'bayes_average_rating', 'total_owners',\n",
      "       'total_traders', 'total_wanters', 'total_wishers', 'total_comments',\n",
      "       'total_weights', 'average_weight'],\n",
      "      dtype='object')\n"
     ]
    }
   ],
   "source": [
    "print(dataset.columns)"
   ]
  },
  {
   "cell_type": "markdown",
   "metadata": {},
   "source": [
    "We understand that many of these columns are redundant as they do not contribute to the overall accuracy of the model."
   ]
  },
  {
   "cell_type": "code",
   "execution_count": 10,
   "metadata": {},
   "outputs": [
    {
     "data": {
      "image/png": "[encoded data removed]",
      "text/plain": [
       "<Figure size 864x648 with 2 Axes>"
      ]
     },
     "metadata": {
      "needs_background": "light"
     },
     "output_type": "display_data"
    }
   ],
   "source": [
    "#Plot correlation using a heatmap\n",
    "import seaborn as sns\n",
    "corrmat = dataset.corr()\n",
    "fig = plt.figure(figsize = (12, 9))\n",
    "sns.heatmap(corrmat, vmax = 8, square = True)\n",
    "plt.show()"
   ]
  },
  {
   "cell_type": "markdown",
   "metadata": {},
   "source": [
    "In this heatmap we can notice how bayes_average_rating, type, name and id do not contribute to the strength of each of the elements in the model. Also it can be inferred that while playingtime, minplaytime and maxplaytime aren't good predictors individually, they contribute to a great deal of correlation within themselves. We tend to discard the afrementioned four values from the dataset."
   ]
  },
  {
   "cell_type": "code",
   "execution_count": 11,
   "metadata": {},
   "outputs": [],
   "source": [
    "#Create inputs and output variables\n",
    "inputs = dataset.drop(['bayes_average_rating', 'average_rating', 'type', 'name', 'id'], axis = 1)\n",
    "output = dataset['average_rating']"
   ]
  },
  {
   "cell_type": "code",
   "execution_count": 12,
   "metadata": {},
   "outputs": [
    {
     "name": "stdout",
     "output_type": "stream",
     "text": [
      "(45515, 15)\n",
      "(11379, 15)\n"
     ]
    }
   ],
   "source": [
    "#Perform training and testing splits with test size as 20% of the datset. We tried checking the size using the .shape attribute\n",
    "from sklearn.model_selection import train_test_split\n",
    "\n",
    "X_train, X_test, y_train, y_test = train_test_split(inputs, output, test_size = 0.2, random_state = 0)\n",
    "print(X_train.shape)\n",
    "print(X_test.shape)"
   ]
  },
  {
   "cell_type": "code",
   "execution_count": 13,
   "metadata": {},
   "outputs": [
    {
     "data": {
      "text/plain": [
       "LinearRegression()"
      ]
     },
     "execution_count": 13,
     "metadata": {},
     "output_type": "execute_result"
    }
   ],
   "source": [
    "#Create LinearRegression model\n",
    "from sklearn.linear_model import LinearRegression\n",
    "from sklearn.metrics import mean_squared_error\n",
    "\n",
    "#Create an instance of the model and fit it with training values\n",
    "LR = LinearRegression()\n",
    "LR.fit(X_train, y_train)"
   ]
  },
  {
   "cell_type": "code",
   "execution_count": 14,
   "metadata": {},
   "outputs": [
    {
     "data": {
      "text/plain": [
       "2.0847610712545177"
      ]
     },
     "execution_count": 14,
     "metadata": {},
     "output_type": "execute_result"
    }
   ],
   "source": [
    "#Calculate y_pred\n",
    "y_pred = LR.predict(X_test)\n",
    "\n",
    "#Calculate mean_square_error to check the skewness of the points from the actual output\n",
    "mean_squared_error(y_pred, y_test)"
   ]
  },
  {
   "cell_type": "markdown",
   "metadata": {},
   "source": [
    "The error is nearly 2.07. We believe this can be further reduced using an ensemble method such as a Random Forest Regressor. It is powerful and accurate and has good performance on many problems, including non linear."
   ]
  },
  {
   "cell_type": "code",
   "execution_count": 15,
   "metadata": {},
   "outputs": [
    {
     "data": {
      "text/plain": [
       "RandomForestRegressor(min_samples_leaf=10, random_state=1)"
      ]
     },
     "execution_count": 15,
     "metadata": {},
     "output_type": "execute_result"
    }
   ],
   "source": [
    "#Create RandomForestRegressor model\n",
    "from sklearn.ensemble import RandomForestRegressor\n",
    "RF = RandomForestRegressor(n_estimators = 100, min_samples_leaf = 10, random_state = 1)\n",
    "RF.fit(X_train, y_train)"
   ]
  },
  {
   "cell_type": "code",
   "execution_count": 16,
   "metadata": {},
   "outputs": [
    {
     "data": {
      "text/plain": [
       "1.4599222099037266"
      ]
     },
     "execution_count": 16,
     "metadata": {},
     "output_type": "execute_result"
    }
   ],
   "source": [
    "#Calculate y_pred\n",
    "y_pred = RF.predict(X_test)\n",
    "\n",
    "#Calculate mean_square_error to check the skewness of the points from the actual output\n",
    "mean_squared_error(y_pred, y_test)"
   ]
  },
  {
   "cell_type": "markdown",
   "metadata": {},
   "source": [
    "The error is much lesser than the previous one. Thus, RandomForestRegressor is more reliable in providing accurate results"
   ]
  },
  {
   "cell_type": "code",
   "execution_count": 17,
   "metadata": {},
   "outputs": [
    {
     "data": {
      "text/plain": [
       "yearpublished     1992.0\n",
       "minplayers           1.0\n",
       "maxplayers           2.0\n",
       "playingtime         60.0\n",
       "minplaytime         60.0\n",
       "maxplaytime         60.0\n",
       "minage              12.0\n",
       "users_rated          8.0\n",
       "total_owners        38.0\n",
       "total_traders        5.0\n",
       "total_wanters        1.0\n",
       "total_wishers        1.0\n",
       "total_comments       8.0\n",
       "total_weights        2.0\n",
       "average_weight       3.0\n",
       "Name: 32356, dtype: float64"
      ]
     },
     "execution_count": 17,
     "metadata": {},
     "output_type": "execute_result"
    }
   ],
   "source": [
    "#Checking the first row of X_test\n",
    "X_test.iloc[0]"
   ]
  },
  {
   "cell_type": "code",
   "execution_count": 18,
   "metadata": {},
   "outputs": [
    {
     "data": {
      "text/plain": [
       "array([6.83440703, 5.89491255])"
      ]
     },
     "execution_count": 18,
     "metadata": {},
     "output_type": "execute_result"
    }
   ],
   "source": [
    "#Compare the predicted values of Linear Regressor and Rndom Forest Regressor respectively\n",
    "np.concatenate((LR.predict(X_test.iloc[0].values.reshape(1,-1)), RF.predict(X_test.iloc[0].values.reshape(1,-1))))"
   ]
  },
  {
   "cell_type": "code",
   "execution_count": 19,
   "metadata": {},
   "outputs": [
    {
     "data": {
      "text/plain": [
       "5.5625"
      ]
     },
     "execution_count": 19,
     "metadata": {},
     "output_type": "execute_result"
    }
   ],
   "source": [
    "y_test.iloc[0]"
   ]
  },
  {
   "cell_type": "markdown",
   "metadata": {},
   "source": [
    "The prediction deduced by Random Forest Regressor is almost closer to the actual prediction. Now, let us try to apply Support Vector and Decision Tree Regressor to see which amongst these four perform better."
   ]
  },
  {
   "cell_type": "code",
   "execution_count": 20,
   "metadata": {},
   "outputs": [
    {
     "data": {
      "text/plain": [
       "DecisionTreeRegressor(min_samples_leaf=10, random_state=1)"
      ]
     },
     "execution_count": 20,
     "metadata": {},
     "output_type": "execute_result"
    }
   ],
   "source": [
    "#Create LinearRegression model\n",
    "from sklearn.tree import DecisionTreeRegressor\n",
    "DT = DecisionTreeRegressor(min_samples_leaf = 10, random_state = 1)\n",
    "DT.fit(X_train, y_train)"
   ]
  },
  {
   "cell_type": "code",
   "execution_count": 21,
   "metadata": {},
   "outputs": [
    {
     "data": {
      "text/plain": [
       "1.809822164729183"
      ]
     },
     "execution_count": 21,
     "metadata": {},
     "output_type": "execute_result"
    }
   ],
   "source": [
    "#Calculate y_pred\n",
    "y_pred = DT.predict(X_test)\n",
    "\n",
    "#Calculate mean_square_error to check the skewness of the points from the actual output\n",
    "mean_squared_error(y_pred, y_test)"
   ]
  },
  {
   "cell_type": "code",
   "execution_count": 22,
   "metadata": {},
   "outputs": [
    {
     "data": {
      "text/plain": [
       "SVR()"
      ]
     },
     "execution_count": 22,
     "metadata": {},
     "output_type": "execute_result"
    }
   ],
   "source": [
    "#Create SVR model\n",
    "from sklearn.svm import SVR\n",
    "SV = SVR(kernel = 'rbf', gamma='scale')\n",
    "SV.fit(X_train, y_train)"
   ]
  },
  {
   "cell_type": "code",
   "execution_count": 23,
   "metadata": {},
   "outputs": [
    {
     "data": {
      "text/plain": [
       "2.0558644751001447"
      ]
     },
     "execution_count": 23,
     "metadata": {},
     "output_type": "execute_result"
    }
   ],
   "source": [
    "#Calculate y_pred\n",
    "y_pred = SV.predict(X_test)\n",
    "\n",
    "#Calculate mean_square_error to check the skewness of the points from the actual output\n",
    "mean_squared_error(y_pred, y_test)"
   ]
  },
  {
   "cell_type": "code",
   "execution_count": 24,
   "metadata": {},
   "outputs": [
    {
     "data": {
      "text/plain": [
       "yearpublished     1992.0\n",
       "minplayers           1.0\n",
       "maxplayers           2.0\n",
       "playingtime         60.0\n",
       "minplaytime         60.0\n",
       "maxplaytime         60.0\n",
       "minage              12.0\n",
       "users_rated          8.0\n",
       "total_owners        38.0\n",
       "total_traders        5.0\n",
       "total_wanters        1.0\n",
       "total_wishers        1.0\n",
       "total_comments       8.0\n",
       "total_weights        2.0\n",
       "average_weight       3.0\n",
       "Name: 32356, dtype: float64"
      ]
     },
     "execution_count": 24,
     "metadata": {},
     "output_type": "execute_result"
    }
   ],
   "source": [
    "#Checking the first row of X_test\n",
    "X_test.iloc[0]"
   ]
  },
  {
   "cell_type": "code",
   "execution_count": 25,
   "metadata": {},
   "outputs": [
    {
     "data": {
      "text/plain": [
       "array([5.96169032, 5.36229462])"
      ]
     },
     "execution_count": 25,
     "metadata": {},
     "output_type": "execute_result"
    }
   ],
   "source": [
    "#Compare the predicted values of Linear Regressor and Random Forest Regressor respectively\n",
    "np.concatenate((SV.predict(X_test.iloc[0].values.reshape(1,-1)), DT.predict(X_test.iloc[0].values.reshape(1,-1))))"
   ]
  },
  {
   "cell_type": "code",
   "execution_count": 26,
   "metadata": {},
   "outputs": [
    {
     "data": {
      "text/plain": [
       "5.5625"
      ]
     },
     "execution_count": 26,
     "metadata": {},
     "output_type": "execute_result"
    }
   ],
   "source": [
    "y_test.iloc[0]"
   ]
  },
  {
   "cell_type": "markdown",
   "metadata": {},
   "source": [
    "The prediction deduced by Support Vector and Decision Tree Regressor is not as close to zero as Random Forest Regressor and Decision Tree Regressor is. We discard these classifiers and now we compare DT and RF classifiers"
   ]
  },
  {
   "cell_type": "code",
   "execution_count": 35,
   "metadata": {},
   "outputs": [
    {
     "name": "stdout",
     "output_type": "stream",
     "text": [
      "    Decision Tree Regressor ratings  Random Forest Regressor ratings  \\\n",
      "0                          5.362295                         5.894913   \n",
      "1                          5.919231                         5.712311   \n",
      "2                          8.789651                         9.524077   \n",
      "3                          6.286550                         6.135397   \n",
      "4                          7.853132                         6.915215   \n",
      "5                          5.670755                         5.782902   \n",
      "6                          7.377669                         7.406292   \n",
      "7                          8.042729                         7.177712   \n",
      "8                          4.591213                         4.984203   \n",
      "9                          5.375000                         5.165836   \n",
      "10                         6.370615                         6.390635   \n",
      "11                         5.716311                         6.571391   \n",
      "12                         6.794397                         6.021398   \n",
      "13                         7.761190                         7.967586   \n",
      "14                         6.910530                         6.694596   \n",
      "15                         6.880601                         7.012456   \n",
      "16                         8.550368                         7.313026   \n",
      "17                         5.369231                         4.565639   \n",
      "18                         6.769231                         6.035182   \n",
      "19                         5.707778                         5.680220   \n",
      "20                         4.906713                         6.388310   \n",
      "\n",
      "    Actual Ratings  \n",
      "0          5.56250  \n",
      "1          8.50000  \n",
      "2         10.00000  \n",
      "3          4.12327  \n",
      "4          7.00000  \n",
      "5          6.08824  \n",
      "6          7.55970  \n",
      "7          7.34762  \n",
      "8          6.75000  \n",
      "9          7.00000  \n",
      "10         5.99946  \n",
      "11         7.64286  \n",
      "12         6.00000  \n",
      "13        10.00000  \n",
      "14         6.24913  \n",
      "15         6.81929  \n",
      "16         7.41478  \n",
      "17         7.00000  \n",
      "18         5.66667  \n",
      "19         7.00000  \n",
      "20         7.05000  \n"
     ]
    }
   ],
   "source": [
    "#Compare the predicted values of Decision Tree Regressor and Random Forest Regressor respectively, along with the actual values\n",
    "data = []\n",
    "for i in range(0, 21):\n",
    "    data.append([DT.predict(X_test.iloc[i].values.reshape(1,-1))[0], RF.predict(X_test.iloc[i].values.reshape(1,-1))[0], y_test.iloc[i]])\n",
    "df = pd.DataFrame(data, columns = ['Decision Tree Regressor ratings', 'Random Forest Regressor ratings', 'Actual Ratings'])\n",
    "print(df)"
   ]
  },
  {
   "cell_type": "markdown",
   "metadata": {},
   "source": [
    "Thus, we can conclude from this prediction that Random Forest Regressor is the only best predictor that can provide us the most reliable outputs for the Board Game Review Prediction."
   ]
  }
 ],
 "metadata": {
  "kernelspec": {
   "display_name": "Python 3",
   "language": "python",
   "name": "python3"
  },
  "language_info": {
   "codemirror_mode": {
    "name": "ipython",
    "version": 3
   },
   "file_extension": ".py",
   "mimetype": "text/x-python",
   "name": "python",
   "nbconvert_exporter": "python",
   "pygments_lexer": "ipython3",
   "version": "3.7.1"
  }
 },
 "nbformat": 4,
 "nbformat_minor": 4
}
